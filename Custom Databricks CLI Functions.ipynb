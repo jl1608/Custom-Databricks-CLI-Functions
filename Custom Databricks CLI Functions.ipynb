{
 "cells": [
  {
   "cell_type": "markdown",
   "metadata": {
    "application/vnd.databricks.v1+cell": {
     "cellMetadata": {},
     "inputWidgets": {},
     "nuid": "b2ac9c4c-2d04-4c86-896f-c98d3e0d80a2",
     "showTitle": false,
     "title": ""
    }
   },
   "source": [
    "# Custom Databricks CLI Functions\n",
    "\n",
    "## Helpful CLI functions for use in Databricks"
   ]
  },
  {
   "cell_type": "code",
   "execution_count": 0,
   "metadata": {
    "application/vnd.databricks.v1+cell": {
     "cellMetadata": {},
     "inputWidgets": {},
     "nuid": "6a88991c-9ebc-49d4-a351-2158004feed2",
     "showTitle": true,
     "title": "Configuration"
    }
   },
   "outputs": [],
   "source": [
    "class PathConfig:\n",
    "\n",
    "    def __init__(self, path: str, func: function, *params):\n",
    "        self.path = path\n",
    "        self.func = func\n",
    "        self.params = params\n",
    "\n",
    "    def invoke(self):\n",
    "        self.func(*params)"
   ]
  },
  {
   "cell_type": "code",
   "execution_count": 0,
   "metadata": {
    "application/vnd.databricks.v1+cell": {
     "cellMetadata": {},
     "inputWidgets": {},
     "nuid": "7ba1de44-227c-4149-b32c-bffbb5b8bfc8",
     "showTitle": false,
     "title": ""
    }
   },
   "outputs": [],
   "source": [
    "import os\n",
    "import shutil\n",
    "\n",
    "import matplotlib.pyplot as plt\n",
    "from PIL import Image"
   ]
  },
  {
   "cell_type": "code",
   "execution_count": 0,
   "metadata": {
    "application/vnd.databricks.v1+cell": {
     "cellMetadata": {},
     "inputWidgets": {},
     "nuid": "54ece333-0164-47ba-9ecb-9042d32a3c24",
     "showTitle": true,
     "title": "Validate Filepath"
    }
   },
   "outputs": [],
   "source": [
    "def validate_filepath(path: str) -> bool:\n",
    "    pass"
   ]
  },
  {
   "cell_type": "code",
   "execution_count": 0,
   "metadata": {
    "application/vnd.databricks.v1+cell": {
     "cellMetadata": {},
     "inputWidgets": {},
     "nuid": "e047d7a5-8aba-43f2-92ab-a32f068df9d4",
     "showTitle": true,
     "title": "Create a file"
    }
   },
   "outputs": [],
   "source": [
    "def create_file(path: str):\n",
    "    os.makedirs(os.path.dirname(path), exist_ok=True)\n",
    "    open(path, \"w+\").close()"
   ]
  },
  {
   "cell_type": "code",
   "execution_count": 0,
   "metadata": {
    "application/vnd.databricks.v1+cell": {
     "cellMetadata": {},
     "inputWidgets": {},
     "nuid": "cafcc436-1b51-4e1a-9d32-a5643a1854d8",
     "showTitle": true,
     "title": "Display Image from the Filesystem"
    }
   },
   "outputs": [],
   "source": [
    "def display_image(path: str):\n",
    "    fig = plt.figure()\n",
    "    plt.imshow(Image.open(path))\n",
    "    plt.axis(\"off\")\n",
    "    plt.show()"
   ]
  },
  {
   "cell_type": "code",
   "execution_count": 0,
   "metadata": {
    "application/vnd.databricks.v1+cell": {
     "cellMetadata": {},
     "inputWidgets": {},
     "nuid": "a64a75d4-6bab-43d9-9ac0-8e9406f91ab0",
     "showTitle": true,
     "title": "Move an item to a new directory"
    }
   },
   "outputs": [],
   "source": [
    "import shutil\n",
    "\n",
    "def move_path(src: str, dest: str):\n",
    "    shutil.move(source, destination)"
   ]
  },
  {
   "cell_type": "code",
   "execution_count": 0,
   "metadata": {
    "application/vnd.databricks.v1+cell": {
     "cellMetadata": {},
     "inputWidgets": {},
     "nuid": "2f006937-ebdf-491e-9ec9-4ede0c5a5e7e",
     "showTitle": false,
     "title": ""
    }
   },
   "outputs": [],
   "source": [
    "def copy_path(src: str, dest: str):\n",
    "    shutil.copy2(source_dir, destination_dir)\n"
   ]
  }
 ],
 "metadata": {
  "application/vnd.databricks.v1+notebook": {
   "dashboards": [],
   "language": "python",
   "notebookMetadata": {
    "pythonIndentUnit": 4
   },
   "notebookName": "Custom Databricks CLI Functions",
   "widgets": {}
  }
 },
 "nbformat": 4,
 "nbformat_minor": 0
}
